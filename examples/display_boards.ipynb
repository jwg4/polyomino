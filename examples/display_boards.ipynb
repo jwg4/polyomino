{
 "cells": [
  {
   "cell_type": "code",
   "execution_count": 5,
   "id": "2f48725f",
   "metadata": {},
   "outputs": [],
   "source": [
    "from polyomino.board import Chessboard\n",
    "from polyomino.constant import DOMINO"
   ]
  },
  {
   "cell_type": "code",
   "execution_count": 6,
   "id": "325f7427",
   "metadata": {},
   "outputs": [
    {
     "data": {
      "image/png": "[encoded data removed]",
      "text/plain": [
       "<polyomino.board.DeletedRectangle at 0x6f56ef58>"
      ]
     },
     "execution_count": 6,
     "metadata": {},
     "output_type": "execute_result"
    }
   ],
   "source": [
    "Chessboard().remove((0, 0)).remove((7, 7))"
   ]
  },
  {
   "cell_type": "code",
   "execution_count": 7,
   "id": "c9cc6b80",
   "metadata": {},
   "outputs": [
    {
     "data": {
      "image/png": "[encoded data removed]",
      "text/plain": [
       "<polyomino.board.DeletedRectangle at 0x6f56e8b0>"
      ]
     },
     "execution_count": 7,
     "metadata": {},
     "output_type": "execute_result"
    }
   ],
   "source": [
    "Chessboard().remove((0, 0)).remove((0, 7))"
   ]
  },
  {
   "cell_type": "code",
   "execution_count": 8,
   "id": "1d7225b7",
   "metadata": {},
   "outputs": [
    {
     "data": {
      "image/png": "[encoded data removed]",
      "text/plain": [
       "<polyomino.solution.Solution at 0x6f558c10>"
      ]
     },
     "execution_count": 8,
     "metadata": {},
     "output_type": "execute_result"
    }
   ],
   "source": [
    "Chessboard().remove((0, 0)).remove((0, 7)).tile_with_many(DOMINO).solve()"
   ]
  },
  {
   "cell_type": "code",
   "execution_count": 15,
   "id": "722aee60",
   "metadata": {},
   "outputs": [
    {
     "data": {
      "image/png": "[encoded data removed]",
      "text/plain": [
       "<polyomino.board.DeletedRectangle at 0x65fd08e0>"
      ]
     },
     "execution_count": 15,
     "metadata": {},
     "output_type": "execute_result"
    }
   ],
   "source": [
    "Chessboard().remove((3, 4)).remove((5, 5))"
   ]
  },
  {
   "cell_type": "code",
   "execution_count": 14,
   "id": "a8b83b0a",
   "metadata": {},
   "outputs": [
    {
     "data": {
      "image/png": "[encoded data removed]",
      "text/plain": [
       "<polyomino.solution.Solution at 0x65fd0118>"
      ]
     },
     "execution_count": 14,
     "metadata": {},
     "output_type": "execute_result"
    }
   ],
   "source": [
    "Chessboard().remove((3, 4)).remove((5, 5)).tile_with_many(DOMINO).solve()"
   ]
  },
  {
   "cell_type": "code",
   "execution_count": null,
   "id": "eeb51823",
   "metadata": {},
   "outputs": [],
   "source": []
  }
 ],
 "metadata": {
  "kernelspec": {
   "display_name": "Python 3 (ipykernel)",
   "language": "python",
   "name": "python3"
  },
  "language_info": {
   "codemirror_mode": {
    "name": "ipython",
    "version": 3
   },
   "file_extension": ".py",
   "mimetype": "text/x-python",
   "name": "python",
   "nbconvert_exporter": "python",
   "pygments_lexer": "ipython3",
   "version": "3.9.2"
  }
 },
 "nbformat": 4,
 "nbformat_minor": 5
}

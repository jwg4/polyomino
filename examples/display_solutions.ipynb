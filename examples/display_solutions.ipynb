{
 "cells": [
  {
   "cell_type": "code",
   "execution_count": 1,
   "id": "c5f94563",
   "metadata": {},
   "outputs": [],
   "source": [
    "from polyomino.board import Chessboard, Irregular\n",
    "from polyomino.constant import TETROMINOS, ALL_PENTOMINOS"
   ]
  },
  {
   "cell_type": "code",
   "execution_count": 2,
   "id": "a990b439",
   "metadata": {},
   "outputs": [],
   "source": [
    "solution = Chessboard().tile_with(ALL_PENTOMINOS + [TETROMINOS['Square']]).solve()"
   ]
  },
  {
   "cell_type": "code",
   "execution_count": 3,
   "id": "24061091",
   "metadata": {},
   "outputs": [
    {
     "data": {
      "image/png": "[encoded data removed]",
      "text/plain": [
       "<polyomino.solution.Solution at 0x6f537fe8>"
      ]
     },
     "execution_count": 3,
     "metadata": {},
     "output_type": "execute_result"
    }
   ],
   "source": [
    "solution"
   ]
  },
  {
   "cell_type": "code",
   "execution_count": 4,
   "id": "076e18a7",
   "metadata": {},
   "outputs": [
    {
     "name": "stdout",
     "output_type": "stream",
     "text": [
      "+-+-+-+-+-+-+-+-+\n",
      "| |         |   |\n",
      "+ +-+-+-+-+-+   +\n",
      "|     |     |   |\n",
      "+-+ +-+ +-+-+-+-+\n",
      "| | |   | |     |\n",
      "+ +-+-+-+ +-+-+ +\n",
      "|       |     | |\n",
      "+-+-+-+-+-+-+ + +\n",
      "|   |       | | |\n",
      "+-+ +-+-+ +-+-+-+\n",
      "| |   | | | |   |\n",
      "+ +-+ + +-+ +-+ +\n",
      "|   | | |     | |\n",
      "+   +-+ +-+ +-+ +\n",
      "|   |     | |   |\n",
      "+-+-+-+-+-+-+-+-+\n"
     ]
    }
   ],
   "source": [
    "print(solution.display())"
   ]
  },
  {
   "cell_type": "code",
   "execution_count": 5,
   "id": "45085dd3",
   "metadata": {},
   "outputs": [
    {
     "data": {
      "image/png": "[encoded data removed]",
      "text/plain": [
       "<polyomino.solution.Solution at 0x6f59b5e0>"
      ]
     },
     "execution_count": 5,
     "metadata": {},
     "output_type": "execute_result"
    }
   ],
   "source": [
    "board = Irregular([(i, j) for i in range(0, 12) for j in range(0, 16)])\n",
    "problem = board.tile_with_many(TETROMINOS['T'])\n",
    "problem.solve()"
   ]
  },
  {
   "cell_type": "code",
   "execution_count": null,
   "id": "ba1efa04",
   "metadata": {},
   "outputs": [],
   "source": []
  }
 ],
 "metadata": {
  "kernelspec": {
   "display_name": "Python 3 (ipykernel)",
   "language": "python",
   "name": "python3"
  },
  "language_info": {
   "codemirror_mode": {
    "name": "ipython",
    "version": 3
   },
   "file_extension": ".py",
   "mimetype": "text/x-python",
   "name": "python",
   "nbconvert_exporter": "python",
   "pygments_lexer": "ipython3",
   "version": "3.9.2"
  }
 },
 "nbformat": 4,
 "nbformat_minor": 5
}
